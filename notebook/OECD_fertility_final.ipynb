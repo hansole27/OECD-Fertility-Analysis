{
  "nbformat": 4,
  "nbformat_minor": 0,
  "metadata": {
    "colab": {
      "provenance": []
    },
    "kernelspec": {
      "name": "python3",
      "display_name": "Python 3"
    },
    "language_info": {
      "name": "python"
    }
  },
  "cells": [
    {
      "cell_type": "code",
      "execution_count": null,
      "metadata": {
        "id": "LO5i40ybW2mV"
      },
      "outputs": [],
      "source": [
        "import pandas as pd\n",
        "df = pd.read_csv('/content/drive/MyDrive/Colab Notebooks/study/합친데이터셋 - 시트3.csv')\n",
        "df"
      ]
    },
    {
      "cell_type": "code",
      "source": [
        "!apt-get install -y fonts-nanum*\n",
        "!rm -rf /root/.cache/matplotlib/* # 폰트 캐시 재설정\n",
        "import matplotlib.pyplot as plt\n",
        "import matplotlib as mpl\n",
        "import numpy as np\n",
        "import seaborn as sns\n",
        "\n",
        "path = '/usr/share/fonts/truetype/nanum/NanumGothic.ttf'\n",
        "font_name = mpl.font_manager.FontProperties(fname=path).get_name()\n",
        "plt.rcParams['font.family'] = font_name"
      ],
      "metadata": {
        "id": "7K7_nKoCW8m-"
      },
      "execution_count": null,
      "outputs": []
    },
    {
      "cell_type": "code",
      "source": [
        "col =['합계출산율','1 to 19 hours_m', '20 to 29 hours_m',\n",
        "       '30 to 34 hours_m', '35 to 39 hours_m', '40 hours or more_m', '소득불평등',\n",
        "       '자살률', '1 to 19 hours_w', '20 to 29 hours_w', '30 to 34 hours_w',\n",
        "       '35 to 39 hours_w', '40 hours or more_w', '남성 고용률', '여성 고용률', '사회보장기여금', '비혼 출산율', '결혼율', '성별에 따른 임금격차', '가족수당관리지출',\n",
        "       '행복지수']"
      ],
      "metadata": {
        "id": "DbpCptQcXBtU"
      },
      "execution_count": null,
      "outputs": []
    },
    {
      "cell_type": "code",
      "source": [
        "corr = df[col].corr(method = 'pearson')\n",
        "corr\n",
        "heatmap_data = df[col]\n",
        "mask1 = np.zeros_like(corr)\n",
        "mask1[np.triu_indices_from(mask1)] = True\n",
        "\n",
        "fig = plt.figure(figsize = (20, 16))\n",
        "ax = fig.gca()\n",
        "plt.title(\"Person Correlation of Features\", size = 15)\n",
        "sns.heatmap(corr.values,\n",
        "            annot = True,mask=mask1,fmt='.2f', annot_kws = {\"size\" : 15},yticklabels = col, xticklabels = col, ax=ax, cmap = \"RdYlBu\")\n",
        "\n",
        "plt.tight_layout() ## 여백을 조정합니다.\n",
        "plt.show() ## 화면에 출력합니다."
      ],
      "metadata": {
        "id": "g-7zL8rZXEJ8"
      },
      "execution_count": null,
      "outputs": []
    },
    {
      "cell_type": "code",
      "source": [
        "from sklearn.model_selection import train_test_split\n",
        "col =['1 to 19 hours_m', '20 to 29 hours_m',\n",
        "       '30 to 34 hours_m', '35 to 39 hours_m', '40 hours or more_m', '소득불평등',\n",
        "       '자살률', '1 to 19 hours_w', '20 to 29 hours_w', '30 to 34 hours_w',\n",
        "       '35 to 39 hours_w', '40 hours or more_w', '남성 고용률', '여성 고용률', '사회보장기여금', '비혼 출산율', '결혼율', '성별에 따른 임금격차', '가족수당관리지출',\n",
        "       '행복지수']\n",
        "# split dataset into training & test\n",
        "X = df[col]\n",
        "y = df['합계출산율']\n",
        "X_train, X_test, y_train, y_test = train_test_split(X, y, test_size=0.2, random_state=2)\n",
        "print(X_train.shape, y_train.shape)\n",
        "print(X_test.shape, y_test.shape)"
      ],
      "metadata": {
        "id": "6Whv4JB7XGC8"
      },
      "execution_count": null,
      "outputs": []
    },
    {
      "cell_type": "code",
      "source": [
        "from statsmodels.stats.outliers_influence import variance_inflation_factor\n",
        "\n",
        "vif = pd.DataFrame()\n",
        "vif['features'] = X_train.columns\n",
        "vif[\"VIF Factor\"] = [variance_inflation_factor(X_train.values, i) for i in range(X_train.shape[1])]\n",
        "vif.round(1)"
      ],
      "metadata": {
        "id": "TIt97_ebXIWH"
      },
      "execution_count": null,
      "outputs": []
    },
    {
      "cell_type": "code",
      "source": [
        "col =['1 to 19 hours_m', '20 to 29 hours_m',\n",
        "       '30 to 34 hours_m',  '소득불평등',\n",
        "       '자살률', '1 to 19 hours_w', '20 to 29 hours_w', '30 to 34 hours_w',\n",
        "         '여성 고용률', '사회보장기여금', '비혼 출산율', '결혼율', '성별에 따른 임금격차', '가족수당관리지출',\n",
        "       '행복지수']\n",
        "X = df[col]\n",
        "y = df['합계출산율']\n",
        "X_train, X_test, y_train, y_test = train_test_split(X, y, test_size=0.2, random_state=2)\n",
        "\n",
        "vif = pd.DataFrame()\n",
        "vif['features'] = X_train.columns\n",
        "vif[\"VIF Factor\"] = [variance_inflation_factor(X_train.values, i) for i in range(X_train.shape[1])]\n",
        "vif.round(1)"
      ],
      "metadata": {
        "id": "OTyn3lZeXKQU"
      },
      "execution_count": null,
      "outputs": []
    },
    {
      "cell_type": "code",
      "source": [
        "from sklearn import linear_model\n",
        "\n",
        "# fit regression model in training set\n",
        "lr = linear_model.LinearRegression()\n",
        "model = lr.fit(X_train, y_train)\n",
        "\n",
        "# predict in test set\n",
        "pred_test = lr.predict(X_test)"
      ],
      "metadata": {
        "id": "_pD3tqmIXL-y"
      },
      "execution_count": null,
      "outputs": []
    },
    {
      "cell_type": "code",
      "source": [
        "print(lr.coef_)"
      ],
      "metadata": {
        "id": "BcTvHhQ3XNyZ"
      },
      "execution_count": null,
      "outputs": []
    },
    {
      "cell_type": "code",
      "source": [
        "### \"feature - coefficients\" DataFrame 만들기\n",
        "\n",
        "coefs = pd.DataFrame(zip(df[col].columns, lr.coef_), columns = ['feature', 'coefficients'])\n",
        "coefs"
      ],
      "metadata": {
        "id": "9TZRrDG6XPon"
      },
      "execution_count": null,
      "outputs": []
    },
    {
      "cell_type": "code",
      "source": [
        "coefs_new = coefs.reindex(coefs.coefficients.abs().sort_values(ascending=False).index)\n",
        "coefs_new"
      ],
      "metadata": {
        "id": "o3Mr0OiIXRVd"
      },
      "execution_count": null,
      "outputs": []
    },
    {
      "cell_type": "code",
      "source": [
        "### coefficients 를 시각화 합니다.\n",
        "\n",
        "### figure size\n",
        "plt.figure(figsize = (8, 8))\n",
        "\n",
        "### bar plot : matplotlib.pyplot 모듈의 barh() 함수를 사용해서 수평 막대 그래프를 그립니다.\n",
        "plt.barh(coefs_new['feature'], coefs_new['coefficients'])\n",
        "plt.title('\"feature - coefficient\" Graph')\n",
        "plt.xlabel('coefficients')\n",
        "plt.ylabel('features')\n",
        "plt.show()"
      ],
      "metadata": {
        "id": "NGGUam29XTKq"
      },
      "execution_count": null,
      "outputs": []
    },
    {
      "cell_type": "code",
      "source": [
        "import statsmodels.api as sm\n",
        "\n",
        "X_train2 = sm.add_constant(X_train)\n",
        "model2 = sm.OLS(y_train, X_train2).fit()\n",
        "model2.summary()"
      ],
      "metadata": {
        "id": "Lyh60_OAXVkY"
      },
      "execution_count": null,
      "outputs": []
    },
    {
      "cell_type": "code",
      "source": [
        "### 예측 결과 시각화 (test set)\n",
        "df = pd.DataFrame({'actual': y_test, 'prediction': pred_test})\n",
        "df = df.sort_values(by='actual').reset_index(drop=True)\n",
        "df.head()"
      ],
      "metadata": {
        "id": "8VLwz3y6XXd5"
      },
      "execution_count": null,
      "outputs": []
    },
    {
      "cell_type": "code",
      "source": [
        "plt.figure(figsize=(12, 9))\n",
        "plt.scatter(df.index, df['prediction'], marker='x', color='r')\n",
        "plt.scatter(df.index, df['actual'], alpha=0.3, marker='o', color='black')\n",
        "plt.title(\"Prediction Result in Test Set\", fontsize=20)\n",
        "plt.legend(['prediction', 'actual'], fontsize=12)\n",
        "plt.show()"
      ],
      "metadata": {
        "id": "iqZu7XbxXZUn"
      },
      "execution_count": null,
      "outputs": []
    },
    {
      "cell_type": "code",
      "source": [
        "## R squared\n",
        "print(model.score(X_train, y_train))  # training set\n",
        "print(model.score(X_test, y_test))  # test set"
      ],
      "metadata": {
        "id": "TTGuZWEsXbNT"
      },
      "execution_count": null,
      "outputs": []
    },
    {
      "cell_type": "code",
      "source": [
        "## RMSE(Root Mean Squared Eror)\n",
        "from sklearn.metrics import mean_squared_error\n",
        "from math import sqrt\n",
        "\n",
        "### training set\n",
        "pred_train = lr.predict(X_train)\n",
        "print(sqrt(mean_squared_error(y_train, pred_train)))\n",
        "\n",
        "## test set\n",
        "print(sqrt(mean_squared_error(y_test, pred_test)))\n"
      ],
      "metadata": {
        "id": "3Bq2ZHHVXckL"
      },
      "execution_count": null,
      "outputs": []
    }
  ]
}